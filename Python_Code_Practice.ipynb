{
  "nbformat": 4,
  "nbformat_minor": 0,
  "metadata": {
    "colab": {
      "provenance": [],
      "authorship_tag": "ABX9TyPxw1JS0sX4I3skaD8ltzgA",
      "include_colab_link": true
    },
    "kernelspec": {
      "name": "python3",
      "display_name": "Python 3"
    },
    "language_info": {
      "name": "python"
    }
  },
  "cells": [
    {
      "cell_type": "markdown",
      "metadata": {
        "id": "view-in-github",
        "colab_type": "text"
      },
      "source": [
        "<a href=\"https://colab.research.google.com/github/SimranaSinha/Python_Projects/blob/main/Python_Code_Practice.ipynb\" target=\"_parent\"><img src=\"https://colab.research.google.com/assets/colab-badge.svg\" alt=\"Open In Colab\"/></a>"
      ]
    },
    {
      "cell_type": "markdown",
      "source": [
        "# ***Write a Program for:***"
      ],
      "metadata": {
        "id": "sKk6PfuEJI3H"
      }
    },
    {
      "cell_type": "markdown",
      "source": [
        "# **Program 1**"
      ],
      "metadata": {
        "id": "16PKieS3In4w"
      }
    },
    {
      "cell_type": "markdown",
      "source": [
        "Print \"Hello World!\""
      ],
      "metadata": {
        "id": "OJ7vw9prIrLr"
      }
    },
    {
      "cell_type": "code",
      "execution_count": 1,
      "metadata": {
        "colab": {
          "base_uri": "https://localhost:8080/"
        },
        "id": "3qdRhI2xIWWp",
        "outputId": "a2daabb8-05b4-490f-e6dc-ab35ed5bc0dc"
      },
      "outputs": [
        {
          "output_type": "stream",
          "name": "stdout",
          "text": [
            "Hello World!\n"
          ]
        }
      ],
      "source": [
        "print(\"Hello World!\")"
      ]
    },
    {
      "cell_type": "markdown",
      "source": [
        "# **Program 2**"
      ],
      "metadata": {
        "id": "463ChUQbI4nH"
      }
    },
    {
      "cell_type": "markdown",
      "source": [
        "Arithmatic Operation addition and division"
      ],
      "metadata": {
        "id": "GdjvNJXSI8Jy"
      }
    },
    {
      "cell_type": "code",
      "source": [
        "# Addition\n",
        "num1= float(input(\"Enter a first number: \"))\n",
        "num2= float(input(\"Enter a second number: \"))\n",
        "sum_result= num1 + num2\n",
        "print(f\"sum:{num1}+{num2}={sum_result}\")"
      ],
      "metadata": {
        "colab": {
          "base_uri": "https://localhost:8080/"
        },
        "id": "6HgZD7OuI38I",
        "outputId": "e4d57dd7-7c34-4a37-8464-8601b80c8a31"
      },
      "execution_count": 18,
      "outputs": [
        {
          "output_type": "stream",
          "name": "stdout",
          "text": [
            "Enter a first number: 2\n",
            "Enter a second number: 3\n",
            "sum:2.0+3.0=5.0\n"
          ]
        }
      ]
    },
    {
      "cell_type": "code",
      "source": [
        "from __future__ import division\n",
        "# Divison\n",
        "num3= float(input(\"Enter a divident number: \"))\n",
        "num4= float(input(\"Enter a divisor number: \"))\n",
        "if num4 == 0:\n",
        "  print(\"Error: Division by zero not valid\")\n",
        "else:\n",
        "  div_result= num3/num4\n",
        "  print(f\"division:{num3}/{num4}={div_result}\")"
      ],
      "metadata": {
        "colab": {
          "base_uri": "https://localhost:8080/"
        },
        "id": "BowA5XWkJP4x",
        "outputId": "e468ea83-ba8b-4b00-bb04-655b418a10e4"
      },
      "execution_count": 19,
      "outputs": [
        {
          "output_type": "stream",
          "name": "stdout",
          "text": [
            "Enter a divident number: 20\n",
            "Enter a divisor number: 5\n",
            "division:20.0/5.0=4.0\n"
          ]
        }
      ]
    },
    {
      "cell_type": "markdown",
      "source": [
        "# **Program 3**"
      ],
      "metadata": {
        "id": "1SD11Lm3K9VG"
      }
    },
    {
      "cell_type": "markdown",
      "source": [
        "Find the area of Triangle"
      ],
      "metadata": {
        "id": "P-Zttah_K_3f"
      }
    },
    {
      "cell_type": "code",
      "source": [
        "# Input the base and height of the Triangle\n",
        "base = float(input(\"Enter the base: \"))\n",
        "height = float(input(\"Enter the height: \"))\n",
        "\n",
        "# Calculate the area of the Triangle\n",
        "area = 0.5 * base * height\n",
        "\n",
        "# Display the result\n",
        "print(f\"The area of the Triangle is: {area}\")"
      ],
      "metadata": {
        "colab": {
          "base_uri": "https://localhost:8080/"
        },
        "id": "b32irn3gKqcx",
        "outputId": "9f0b7caf-4919-4516-f65f-201aa93bec98"
      },
      "execution_count": 16,
      "outputs": [
        {
          "output_type": "stream",
          "name": "stdout",
          "text": [
            "Enter the base: 5\n",
            "Enter the height: 10\n",
            "The area of the Triangle is: 25.0\n"
          ]
        }
      ]
    },
    {
      "cell_type": "markdown",
      "source": [
        "# **Program 4**"
      ],
      "metadata": {
        "id": "9vKlUCW9NQHy"
      }
    },
    {
      "cell_type": "markdown",
      "source": [
        "Swap two variable"
      ],
      "metadata": {
        "id": "sKQrq3VPNWyA"
      }
    },
    {
      "cell_type": "code",
      "source": [
        "# Input two variables\n",
        "a = input(\"Enter the value of first variable(a): \")\n",
        "b = input(\"Enter the value of second variable(b): \")\n",
        "\n",
        "# Display the original values\n",
        "print(f\"Original Values: a = {a} , b= {b}\")\n",
        "\n",
        "# Swap the values using a temporary variable\n",
        "temp = a\n",
        "a = b\n",
        "b = temp\n",
        "\n",
        "# Display the temp values\n",
        "print(f\"Swapped Values: a = {a} , b= {b}\")"
      ],
      "metadata": {
        "colab": {
          "base_uri": "https://localhost:8080/"
        },
        "id": "HNTTt1P4LMWQ",
        "outputId": "24bf095e-2cb6-4fc7-87c2-bb671b206d99"
      },
      "execution_count": 15,
      "outputs": [
        {
          "output_type": "stream",
          "name": "stdout",
          "text": [
            "Enter the value of first variable(a): 5\n",
            "Enter the value of second variable(b): 7\n",
            "Original Values: a = 5 , b= 7\n",
            "Swapped Values: a = 7 , b= 5\n"
          ]
        }
      ]
    },
    {
      "cell_type": "markdown",
      "source": [
        "# **Program 5**"
      ],
      "metadata": {
        "id": "wWwuH40fQA__"
      }
    },
    {
      "cell_type": "markdown",
      "source": [
        "Generate a random number"
      ],
      "metadata": {
        "id": "3gfFumnKQD8Z"
      }
    },
    {
      "cell_type": "code",
      "source": [
        "import random\n",
        "print(f\"Random Values: {random.randint(1,100)}\")"
      ],
      "metadata": {
        "colab": {
          "base_uri": "https://localhost:8080/"
        },
        "id": "OcaM8yanP_14",
        "outputId": "f1cd8e47-420d-4aa5-bb2a-3f33763d12bd"
      },
      "execution_count": 14,
      "outputs": [
        {
          "output_type": "stream",
          "name": "stdout",
          "text": [
            "Random Values: 73\n"
          ]
        }
      ]
    },
    {
      "cell_type": "markdown",
      "source": [
        "# **Program 6**"
      ],
      "metadata": {
        "id": "fDI9kTZ9QcoK"
      }
    },
    {
      "cell_type": "markdown",
      "source": [
        "Convert Kilometer to miles"
      ],
      "metadata": {
        "id": "GQg_KxGVQf6O"
      }
    },
    {
      "cell_type": "code",
      "source": [
        "kilometers = float(input(\"Enter the value in kilometer: \"))\n",
        "\n",
        "# Conversion factor: 1 kilometer = 0.621371 miles\n",
        "conversion_factor = 0.621371\n",
        "\n",
        "miles = kilometers * conversion_factor\n",
        "print(f\"{kilometers} kilometer = {miles} miles\")"
      ],
      "metadata": {
        "colab": {
          "base_uri": "https://localhost:8080/"
        },
        "id": "6W3_OY55P8G1",
        "outputId": "48a3f938-5d25-43af-c161-223aaaef6e7d"
      },
      "execution_count": 22,
      "outputs": [
        {
          "output_type": "stream",
          "name": "stdout",
          "text": [
            "Enter the value in kilometer: 100\n",
            "100.0 kilometer = 62.137100000000004 miles\n"
          ]
        }
      ]
    },
    {
      "cell_type": "markdown",
      "source": [
        "# **Program 7**"
      ],
      "metadata": {
        "id": "BKT2_FOMSzl4"
      }
    },
    {
      "cell_type": "markdown",
      "source": [
        "Convert Celsius to Fahrenheit"
      ],
      "metadata": {
        "id": "nxgrm_NTS15g"
      }
    },
    {
      "cell_type": "code",
      "source": [
        "celsius = float(input(\"Enter the temp in Celsius: \"))\n",
        "\n",
        "# Conversion formula: Fahrenheit = (Celsius * 9/5)+ 32\n",
        "fahrenheit = (celsius * 9/5)+ 32\n",
        "\n",
        "miles = kilometers * conversion_factor\n",
        "print(f\"{celsius} Celsius = {fahrenheit} Fahrenheit\")"
      ],
      "metadata": {
        "colab": {
          "base_uri": "https://localhost:8080/"
        },
        "id": "wrSiRaKATB_7",
        "outputId": "08ef143d-a70a-4990-a759-bcb36bba20ed"
      },
      "execution_count": 23,
      "outputs": [
        {
          "output_type": "stream",
          "name": "stdout",
          "text": [
            "Enter the temp in Celsius: 25\n",
            "25.0 Celsius = 77.0 Fahrenheit\n"
          ]
        }
      ]
    },
    {
      "cell_type": "markdown",
      "source": [
        "# **Program 8**"
      ],
      "metadata": {
        "id": "UMWWWcofVzD1"
      }
    },
    {
      "cell_type": "markdown",
      "source": [
        "Display Calendar"
      ],
      "metadata": {
        "id": "0mTXx2yWV19T"
      }
    },
    {
      "cell_type": "code",
      "source": [
        "import calendar\n",
        "\n",
        "year = int(input(\"Enter Year: \"))\n",
        "month =int(input(\"Enter Month: \"))\n",
        "\n",
        "cal = calendar.month(year,month)\n",
        "print(cal)"
      ],
      "metadata": {
        "colab": {
          "base_uri": "https://localhost:8080/"
        },
        "id": "T4tQHJD0V1kC",
        "outputId": "b65e6ae1-5e08-49df-ba63-15ffd1220d16"
      },
      "execution_count": 25,
      "outputs": [
        {
          "output_type": "stream",
          "name": "stdout",
          "text": [
            "Enter Year: 2001\n",
            "Enter Month: 7\n",
            "     July 2001\n",
            "Mo Tu We Th Fr Sa Su\n",
            "                   1\n",
            " 2  3  4  5  6  7  8\n",
            " 9 10 11 12 13 14 15\n",
            "16 17 18 19 20 21 22\n",
            "23 24 25 26 27 28 29\n",
            "30 31\n",
            "\n"
          ]
        }
      ]
    }
  ]
}